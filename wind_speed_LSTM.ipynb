{
  "nbformat": 4,
  "nbformat_minor": 0,
  "metadata": {
    "colab": {
      "name": "wind_speed_LSTM.ipynb",
      "provenance": [],
      "collapsed_sections": []
    },
    "kernelspec": {
      "name": "python3",
      "display_name": "Python 3"
    }
  },
  "cells": [
    {
      "cell_type": "code",
      "metadata": {
        "id": "yKmpHlynlRni",
        "colab_type": "code",
        "colab": {
          "base_uri": "https://localhost:8080/",
          "height": 126
        },
        "outputId": "e0884aa7-2897-44c8-f4b7-077617ee9bbd"
      },
      "source": [
        "from google.colab import drive\n",
        "drive.mount('/content/gdrive', force_remount= True)"
      ],
      "execution_count": null,
      "outputs": [
        {
          "output_type": "stream",
          "text": [
            "Go to this URL in a browser: https://accounts.google.com/o/oauth2/auth?client_id=947318989803-6bn6qk8qdgf4n4g3pfee6491hc0brc4i.apps.googleusercontent.com&redirect_uri=urn%3aietf%3awg%3aoauth%3a2.0%3aoob&response_type=code&scope=email%20https%3a%2f%2fwww.googleapis.com%2fauth%2fdocs.test%20https%3a%2f%2fwww.googleapis.com%2fauth%2fdrive%20https%3a%2f%2fwww.googleapis.com%2fauth%2fdrive.photos.readonly%20https%3a%2f%2fwww.googleapis.com%2fauth%2fpeopleapi.readonly\n",
            "\n",
            "Enter your authorization code:\n",
            "··········\n",
            "Mounted at /content/gdrive\n"
          ],
          "name": "stdout"
        }
      ]
    },
    {
      "cell_type": "code",
      "metadata": {
        "id": "yUimVTt5mDs6",
        "colab_type": "code",
        "colab": {
          "base_uri": "https://localhost:8080/",
          "height": 35
        },
        "outputId": "82dc56c8-077c-4385-ecb7-500f033509de"
      },
      "source": [
        "!ls"
      ],
      "execution_count": null,
      "outputs": [
        {
          "output_type": "stream",
          "text": [
            "gdrive\tsample_data\n"
          ],
          "name": "stdout"
        }
      ]
    },
    {
      "cell_type": "code",
      "metadata": {
        "id": "6yAqE4nrOvbB",
        "colab_type": "code",
        "colab": {
          "base_uri": "https://localhost:8080/",
          "height": 35
        },
        "outputId": "c29f0a3a-515b-4df9-d3ad-21d5cb5de2fb"
      },
      "source": [
        "# !pwd\n",
        "%cd gdrive/My Drive/Colab Notebooks/WS_new\n",
        "# !ls"
      ],
      "execution_count": null,
      "outputs": [
        {
          "output_type": "stream",
          "text": [
            "/content/gdrive/My Drive/Colab Notebooks/WS_new\n"
          ],
          "name": "stdout"
        }
      ]
    },
    {
      "cell_type": "markdown",
      "metadata": {
        "id": "CvPJ5Q2jA-xI",
        "colab_type": "text"
      },
      "source": [
        "**Import Packages**"
      ]
    },
    {
      "cell_type": "code",
      "metadata": {
        "id": "WsbBWKLDPC37",
        "colab_type": "code",
        "colab": {}
      },
      "source": [
        "!pip install cond-rnn\n",
        "import time\n",
        "import math\n",
        "import numpy as np\n",
        "import pandas as pd\n",
        "import matplotlib.pyplot as plt\n",
        "import matplotlib.dates as mdates\n",
        "from pandas import read_csv\n",
        "from datetime import datetime\n",
        "from datetime import datetime\n",
        "from keras.models import Sequential\n",
        "from keras.layers import LSTM, Dense\n",
        "from tensorflow.keras.models import Model\n",
        "from tensorflow.keras.layers import LSTM, Dense, Input\n",
        "from cond_rnn import ConditionalRNN\n",
        "from sklearn.preprocessing import MinMaxScaler\n",
        "from sklearn.metrics import mean_squared_error"
      ],
      "execution_count": null,
      "outputs": []
    },
    {
      "cell_type": "markdown",
      "metadata": {
        "id": "6GaC5DBqOWEt",
        "colab_type": "text"
      },
      "source": [
        "**Load Dataset**"
      ]
    },
    {
      "cell_type": "code",
      "metadata": {
        "id": "h5B9rYucPYvn",
        "colab_type": "code",
        "colab": {
          "base_uri": "https://localhost:8080/",
          "height": 177
        },
        "outputId": "f76ded66-3a9c-45cb-caa0-902385ce3925"
      },
      "source": [
        "dataset = read_csv('df1.csv', index_col=0)\n",
        "dataset.index.name = 'date'\n",
        "dataset = dataset.iloc[:, 1:1067]\n",
        "print(dataset.head(5))"
      ],
      "execution_count": null,
      "outputs": [
        {
          "output_type": "stream",
          "text": [
            "             WS       WS.1       WS.2  ...   WS.1063   WS.1064   WS.1065\n",
            "date                                   ...                              \n",
            "1     10.071163   9.942720   9.551888  ...  6.828917  6.489227  6.270858\n",
            "2     15.330322  13.908545  11.744733  ...  7.930633  7.793883  7.478707\n",
            "3     10.116735   8.829069   7.486993  ...  4.549035  4.360729  4.113177\n",
            "4      6.372461   6.079538   6.120785  ...  3.959986  4.183685  4.373534\n",
            "5      3.652555   4.436350   5.304547  ...  3.622330  3.753542  3.796246\n",
            "\n",
            "[5 rows x 1066 columns]\n"
          ],
          "name": "stdout"
        }
      ]
    },
    {
      "cell_type": "markdown",
      "metadata": {
        "id": "Rf65Xp3ZPLGC",
        "colab_type": "text"
      },
      "source": [
        "**Creat a function to transform the dataset to fit the model**"
      ]
    },
    {
      "cell_type": "code",
      "metadata": {
        "id": "wndGSJ9IPly7",
        "colab_type": "code",
        "colab": {}
      },
      "source": [
        "from pandas import DataFrame\n",
        "from pandas import concat\n",
        " \n",
        "\n",
        "def series_to_supervised(data, n_in=1, n_out=1, dropnan=True):\n",
        "    n_vars = 1 if type(data) is list else data.shape[1]\n",
        "    df = DataFrame(data)\n",
        "    cols, names = list(), list()\n",
        "    # input sequence (t-n, ... t-1)\n",
        "    for i in range(n_in, 0, -1):\n",
        "        cols.append(df.shift(i))\n",
        "        names += [('var%d(t-%d)' % (j+1, i)) for j in range(n_vars)]\n",
        "    # forecast sequence (t, t+1, ... t+n)\n",
        "    for i in range(0, n_out):\n",
        "        cols.append(df.shift(-i))\n",
        "        if i == 0:\n",
        "            names += [('var%d(t)' % (j+1)) for j in range(n_vars)]\n",
        "        else:\n",
        "            names += [('var%d(t+%d)' % (j+1, i)) for j in range(n_vars)]\n",
        "    # put it all together\n",
        "    agg = concat(cols, axis=1)\n",
        "    agg.columns = names\n",
        "    # drop rows with NaN values\n",
        "    if dropnan:\n",
        "        agg.dropna(inplace=True)\n",
        "    return agg"
      ],
      "execution_count": null,
      "outputs": []
    },
    {
      "cell_type": "markdown",
      "metadata": {
        "id": "EkSTuRRePh-d",
        "colab_type": "text"
      },
      "source": [
        "**Transform and scale the dataset**"
      ]
    },
    {
      "cell_type": "code",
      "metadata": {
        "id": "SMm5ok94PpkB",
        "colab_type": "code",
        "colab": {
          "base_uri": "https://localhost:8080/",
          "height": 159
        },
        "outputId": "a0230b92-baf2-47e2-9dd7-b8cbf7f9ca89"
      },
      "source": [
        "values = dataset.values\n",
        "values = values.astype('float32')\n",
        "scaler = MinMaxScaler(feature_range=(0, 1))\n",
        "scaled = scaler.fit_transform(values)\n",
        "reframed = series_to_supervised(scaled, 3, 1)\n",
        "print(reframed.head())"
      ],
      "execution_count": null,
      "outputs": [
        {
          "output_type": "stream",
          "text": [
            "   var1(t-3)  var2(t-3)  var3(t-3)  ...  var1064(t)  var1065(t)  var1066(t)\n",
            "3   0.424114   0.432618   0.450136  ...    0.247527    0.263525    0.260752\n",
            "4   0.666204   0.621328   0.562610  ...    0.220491    0.230561    0.214355\n",
            "5   0.426212   0.379626   0.344225  ...    0.099044    0.137507    0.143901\n",
            "6   0.253856   0.248792   0.274150  ...    0.347335    0.366652    0.361911\n",
            "7   0.128653   0.170603   0.232284  ...    0.462283    0.434013    0.398894\n",
            "\n",
            "[5 rows x 4264 columns]\n"
          ],
          "name": "stdout"
        }
      ]
    },
    {
      "cell_type": "code",
      "metadata": {
        "id": "rTvWb-KGPuqM",
        "colab_type": "code",
        "colab": {}
      },
      "source": [
        "values = reframed.values\n",
        "train = values[:13149, :]\n",
        "test = values[13149:, :]\n",
        "train_X, train_y = train[:, 0:3198], train[:, 3198:4264]\n",
        "test_X, test_y = test[:, 0:3198], test[:, 3198:4264]"
      ],
      "execution_count": null,
      "outputs": []
    },
    {
      "cell_type": "code",
      "metadata": {
        "id": "94J5UgV2PyHz",
        "colab_type": "code",
        "colab": {}
      },
      "source": [
        "from keras.models import Sequential\n",
        "from keras.layers import Dense, Dropout, Activation, Flatten, Reshape, Input\n",
        "from keras.layers import LSTM, Conv2D, BatchNormalization, Conv2DTranspose\n",
        "from keras.regularizers import l2\n",
        "from keras.layers.wrappers import TimeDistributed\n",
        "import tensorflow as tf\n",
        "import numpy as np"
      ],
      "execution_count": null,
      "outputs": []
    },
    {
      "cell_type": "code",
      "metadata": {
        "id": "ZXOxoCQMP1OY",
        "colab_type": "code",
        "colab": {
          "base_uri": "https://localhost:8080/",
          "height": 1000
        },
        "outputId": "31941b25-c1b6-4582-8c90-ca2c1b3afffd"
      },
      "source": [
        "model2 = Sequential()\n",
        "model2.add(LSTM(50, input_shape=(train_X.shape[1], train_X.shape[2])))\n",
        "model2.add(Dense(1066))\n",
        "model2.compile(loss='mse', optimizer='adam')\n",
        "history2 = model2.fit(train_X, train_y, epochs=50, batch_size=72, validation_data=(test_X, test_y), verbose=2, shuffle=False)"
      ],
      "execution_count": null,
      "outputs": [
        {
          "output_type": "stream",
          "text": [
            "Epoch 1/50\n",
            "183/183 - 2s - loss: 0.0182 - val_loss: 0.0123\n",
            "Epoch 2/50\n",
            "183/183 - 2s - loss: 0.0118 - val_loss: 0.0109\n",
            "Epoch 3/50\n",
            "183/183 - 2s - loss: 0.0109 - val_loss: 0.0102\n",
            "Epoch 4/50\n",
            "183/183 - 3s - loss: 0.0104 - val_loss: 0.0100\n",
            "Epoch 5/50\n",
            "183/183 - 3s - loss: 0.0101 - val_loss: 0.0098\n",
            "Epoch 6/50\n",
            "183/183 - 3s - loss: 0.0099 - val_loss: 0.0096\n",
            "Epoch 7/50\n",
            "183/183 - 2s - loss: 0.0098 - val_loss: 0.0095\n",
            "Epoch 8/50\n",
            "183/183 - 2s - loss: 0.0096 - val_loss: 0.0094\n",
            "Epoch 9/50\n",
            "183/183 - 2s - loss: 0.0095 - val_loss: 0.0093\n",
            "Epoch 10/50\n",
            "183/183 - 2s - loss: 0.0094 - val_loss: 0.0092\n",
            "Epoch 11/50\n",
            "183/183 - 2s - loss: 0.0093 - val_loss: 0.0092\n",
            "Epoch 12/50\n",
            "183/183 - 2s - loss: 0.0092 - val_loss: 0.0092\n",
            "Epoch 13/50\n",
            "183/183 - 2s - loss: 0.0091 - val_loss: 0.0091\n",
            "Epoch 14/50\n",
            "183/183 - 2s - loss: 0.0091 - val_loss: 0.0090\n",
            "Epoch 15/50\n",
            "183/183 - 2s - loss: 0.0090 - val_loss: 0.0090\n",
            "Epoch 16/50\n",
            "183/183 - 2s - loss: 0.0089 - val_loss: 0.0090\n",
            "Epoch 17/50\n",
            "183/183 - 2s - loss: 0.0089 - val_loss: 0.0089\n",
            "Epoch 18/50\n",
            "183/183 - 2s - loss: 0.0088 - val_loss: 0.0089\n",
            "Epoch 19/50\n",
            "183/183 - 2s - loss: 0.0087 - val_loss: 0.0088\n",
            "Epoch 20/50\n",
            "183/183 - 2s - loss: 0.0087 - val_loss: 0.0088\n",
            "Epoch 21/50\n",
            "183/183 - 2s - loss: 0.0086 - val_loss: 0.0088\n",
            "Epoch 22/50\n",
            "183/183 - 2s - loss: 0.0086 - val_loss: 0.0088\n",
            "Epoch 23/50\n",
            "183/183 - 2s - loss: 0.0085 - val_loss: 0.0088\n",
            "Epoch 24/50\n",
            "183/183 - 2s - loss: 0.0085 - val_loss: 0.0088\n",
            "Epoch 25/50\n",
            "183/183 - 2s - loss: 0.0085 - val_loss: 0.0087\n",
            "Epoch 26/50\n",
            "183/183 - 2s - loss: 0.0084 - val_loss: 0.0088\n",
            "Epoch 27/50\n",
            "183/183 - 2s - loss: 0.0084 - val_loss: 0.0087\n",
            "Epoch 28/50\n",
            "183/183 - 2s - loss: 0.0083 - val_loss: 0.0088\n",
            "Epoch 29/50\n",
            "183/183 - 2s - loss: 0.0083 - val_loss: 0.0088\n",
            "Epoch 30/50\n",
            "183/183 - 2s - loss: 0.0083 - val_loss: 0.0088\n",
            "Epoch 31/50\n",
            "183/183 - 2s - loss: 0.0082 - val_loss: 0.0089\n",
            "Epoch 32/50\n",
            "183/183 - 2s - loss: 0.0082 - val_loss: 0.0089\n",
            "Epoch 33/50\n",
            "183/183 - 2s - loss: 0.0082 - val_loss: 0.0089\n",
            "Epoch 34/50\n",
            "183/183 - 2s - loss: 0.0082 - val_loss: 0.0088\n",
            "Epoch 35/50\n",
            "183/183 - 2s - loss: 0.0081 - val_loss: 0.0088\n",
            "Epoch 36/50\n",
            "183/183 - 2s - loss: 0.0081 - val_loss: 0.0087\n",
            "Epoch 37/50\n",
            "183/183 - 2s - loss: 0.0081 - val_loss: 0.0086\n",
            "Epoch 38/50\n",
            "183/183 - 2s - loss: 0.0081 - val_loss: 0.0086\n",
            "Epoch 39/50\n",
            "183/183 - 2s - loss: 0.0081 - val_loss: 0.0086\n",
            "Epoch 40/50\n",
            "183/183 - 2s - loss: 0.0081 - val_loss: 0.0087\n",
            "Epoch 41/50\n",
            "183/183 - 2s - loss: 0.0081 - val_loss: 0.0087\n",
            "Epoch 42/50\n",
            "183/183 - 2s - loss: 0.0080 - val_loss: 0.0087\n",
            "Epoch 43/50\n",
            "183/183 - 2s - loss: 0.0080 - val_loss: 0.0087\n",
            "Epoch 44/50\n",
            "183/183 - 2s - loss: 0.0079 - val_loss: 0.0087\n",
            "Epoch 45/50\n",
            "183/183 - 2s - loss: 0.0079 - val_loss: 0.0087\n",
            "Epoch 46/50\n",
            "183/183 - 2s - loss: 0.0079 - val_loss: 0.0087\n",
            "Epoch 47/50\n",
            "183/183 - 2s - loss: 0.0078 - val_loss: 0.0087\n",
            "Epoch 48/50\n",
            "183/183 - 2s - loss: 0.0078 - val_loss: 0.0087\n",
            "Epoch 49/50\n",
            "183/183 - 2s - loss: 0.0078 - val_loss: 0.0087\n",
            "Epoch 50/50\n",
            "183/183 - 2s - loss: 0.0078 - val_loss: 0.0087\n"
          ],
          "name": "stdout"
        }
      ]
    },
    {
      "cell_type": "code",
      "metadata": {
        "id": "I4Ujppt2iUmA",
        "colab_type": "code",
        "colab": {
          "base_uri": "https://localhost:8080/",
          "height": 265
        },
        "outputId": "6ca26fc7-d0c2-4ce3-e350-efc7ef736ca6"
      },
      "source": [
        "# 绘制历史数据\n",
        "plt.plot(history2.history['loss'], label='train')\n",
        "plt.plot(history2.history['val_loss'], label='test')\n",
        "plt.legend()\n",
        "plt.show()"
      ],
      "execution_count": null,
      "outputs": [
        {
          "output_type": "display_data",
          "data": {
            "image/png": "[encoded data removed]",
            "text/plain": [
              "<Figure size 432x288 with 1 Axes>"
            ]
          },
          "metadata": {
            "tags": [],
            "needs_background": "light"
          }
        }
      ]
    }
  ]
}